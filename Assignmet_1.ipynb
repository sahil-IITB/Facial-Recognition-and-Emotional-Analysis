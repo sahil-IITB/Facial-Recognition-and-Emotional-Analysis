{
 "cells": [
  {
   "cell_type": "code",
   "execution_count": 1,
   "id": "c231767b-4a2b-4059-8b1e-b63026acc2e4",
   "metadata": {},
   "outputs": [],
   "source": [
    "# Imports\n",
    "import torch\n",
    "import torchvision\n",
    "from torchvision.datasets import MNIST\n",
    "import matplotlib.pyplot as plt\n",
    "import torchvision.transforms as transforms\n",
    "import numpy as np\n",
    "from torch.utils.data.sampler import SubsetRandomSampler\n",
    "from torch.utils.data.dataloader import DataLoader\n",
    "import torch.nn as nn\n",
    "import torch.nn.functional as F"
   ]
  },
  {
   "cell_type": "code",
   "execution_count": 2,
   "id": "5552eb83-a113-4fb4-b652-d78bb2f3e9ce",
   "metadata": {},
   "outputs": [],
   "source": [
    "# Parameters\n",
    "learning_rate = 0.01\n",
    "batch_size = 100\n",
    "val_perc = 0.2 # Validations set size \n",
    "iters = 20 # Epochs"
   ]
  },
  {
   "cell_type": "code",
   "execution_count": 3,
   "id": "f14b6168-0987-4214-9b8e-3f31291b5086",
   "metadata": {},
   "outputs": [],
   "source": [
    "# Download Dataset\n",
    "dataset = MNIST(root='data/', download=True)"
   ]
  },
  {
   "cell_type": "code",
   "execution_count": 4,
   "id": "8ae33e72-e656-48c4-93cb-fd02a121c442",
   "metadata": {},
   "outputs": [],
   "source": [
    "train_dataset = MNIST(root='data/', train=True, transform=transforms.ToTensor())\n",
    "test_dataset = MNIST(root='data/', train=False, transform=transforms.ToTensor())"
   ]
  },
  {
   "cell_type": "code",
   "execution_count": 5,
   "id": "a86a04c9-39e8-4e91-b909-ddc6430e363b",
   "metadata": {},
   "outputs": [],
   "source": [
    "# Create Validation set\n",
    "\n",
    "def split_indices(n, val_perc, seed=99):\n",
    "    \n",
    "    # Determine size of validation set\n",
    "    n_val = int(val_perc * n)\n",
    "\n",
    "    # Set random seed\n",
    "    np.random.seed(seed)\n",
    "    \n",
    "    # Create random permutation of 0 to n-1\n",
    "    indices = np.random.permutation(n)\n",
    "\n",
    "    # Pick first n_val indices for validation set\n",
    "    return indices[n_val:], indices[:n_val]\n",
    "\n",
    "train_indices, val_indices = split_indices(len(dataset), val_perc, seed=42)"
   ]
  },
  {
   "cell_type": "code",
   "execution_count": 6,
   "id": "6c084b09-c179-4fcd-84f1-880848c60868",
   "metadata": {},
   "outputs": [],
   "source": [
    "# Training sampler and Data Loader\n",
    "train_sampler = SubsetRandomSampler(train_indices)\n",
    "train_loader = DataLoader(train_dataset, batch_size, sampler=train_sampler)\n",
    "\n",
    "# Validation sampler and Data Loader\n",
    "val_sampler = SubsetRandomSampler(val_indices)\n",
    "val_loader = DataLoader(train_dataset, batch_size, sampler=val_indices)"
   ]
  },
  {
   "cell_type": "code",
   "execution_count": 7,
   "id": "14c1b060-dbaa-454f-b7a0-445db73bfd0e",
   "metadata": {},
   "outputs": [],
   "source": [
    "device = torch.device(\"cuda\" if torch.cuda.is_available() else \"cpu\")"
   ]
  },
  {
   "cell_type": "code",
   "execution_count": 8,
   "id": "7a9b34eb-154c-40fd-981c-a8657668ac31",
   "metadata": {},
   "outputs": [],
   "source": [
    "def to_device(data, device):\n",
    "    if isinstance(data, (list,tuple)):\n",
    "        return [to_device(x, device) for x in data]\n",
    "    return data.to(device, non_blocking=True)"
   ]
  },
  {
   "cell_type": "code",
   "execution_count": 9,
   "id": "edc8ff77-8b8d-4c05-8e42-e9e209263af7",
   "metadata": {},
   "outputs": [],
   "source": [
    "class DeviceDataLoader():\n",
    "    '''Wrap a dataloader to move data to device'''\n",
    "    def __init__(self, dl, device):\n",
    "        self.dl = dl\n",
    "        self.device = device\n",
    "\n",
    "    def __iter__(self):\n",
    "        '''Yield a batch of data after moving it to device'''\n",
    "        for b in self.dl:\n",
    "            yield to_device(b, self.device)\n",
    "\n",
    "    def __len__(self):\n",
    "        '''Number of batches'''\n",
    "        return len(self.dl)"
   ]
  },
  {
   "cell_type": "code",
   "execution_count": 10,
   "id": "66415ad1-177a-4ec5-8a87-a6c8d6e95783",
   "metadata": {},
   "outputs": [],
   "source": [
    "train_loader = DeviceDataLoader(train_loader, device)\n",
    "val_loader = DeviceDataLoader(val_loader, device)"
   ]
  },
  {
   "cell_type": "code",
   "execution_count": 11,
   "id": "35f5edf8-2c2b-44b6-9eef-7df01786d68e",
   "metadata": {},
   "outputs": [],
   "source": [
    "# Create Model\n",
    "class CNN(nn.Module):\n",
    "    def __init__(self):\n",
    "        super().__init__()\n",
    "        self.conv1 = nn.Conv2d(1, 32, 3, padding=1)  \n",
    "        self.pool1 = nn.MaxPool2d(2, 2)              \n",
    "        self.conv2 = nn.Conv2d(32, 64, 3, padding=1) \n",
    "        self.pool2 = nn.MaxPool2d(2, 2)              \n",
    "        self.fc1 = nn.Linear(64 * 7 * 7, 128)\n",
    "        self.fc2 = nn.Linear(128, 10)\n",
    "        self.relu = nn.ReLU()\n",
    "\n",
    "    def forward(self, x):\n",
    "        x = self.relu(self.conv1(x))\n",
    "        x = self.pool1(x)\n",
    "        x = self.relu(self.conv2(x))\n",
    "        x = self.pool2(x)\n",
    "        x = x.view(-1, 64 * 7 * 7)\n",
    "        x = self.relu(self.fc1(x))\n",
    "        x = self.fc2(x)\n",
    "        return x"
   ]
  },
  {
   "cell_type": "code",
   "execution_count": 12,
   "id": "375d0095-486f-4685-8849-2ff890d5ebcb",
   "metadata": {},
   "outputs": [],
   "source": [
    "# Metric\n",
    "def accuracy(outputs, labels):\n",
    "    _, preds = torch.max(outputs, dim=1)\n",
    "    return torch.sum(preds == labels).item() / len(preds)"
   ]
  },
  {
   "cell_type": "code",
   "execution_count": 13,
   "id": "736f9fb3-ab28-4ffe-95d4-1e6da801710a",
   "metadata": {},
   "outputs": [],
   "source": [
    "def loss_batch(model, loss_func, xb, yb, opt=None, metric=None):\n",
    "    preds = model(xb)\n",
    "    loss = loss_func(preds, yb)\n",
    "\n",
    "    if opt is not None:\n",
    "        loss.backward()\n",
    "        opt.step()\n",
    "        opt.zero_grad()\n",
    "\n",
    "    metric_result = None\n",
    "    if metric is not None:\n",
    "        metric_result = metric(preds, yb)\n",
    "\n",
    "    return loss.item(), len(xb), metric_result"
   ]
  },
  {
   "cell_type": "code",
   "execution_count": 14,
   "id": "62604d7e-7dd7-41a8-97a7-db28dd5d842a",
   "metadata": {},
   "outputs": [],
   "source": [
    "def evaluate(model, loss_fn, valid_dl, metric=None):\n",
    "    with torch.no_grad():\n",
    "        results = [loss_batch(model, loss_fn, xb, yb, metric=metric) for xb, yb in valid_dl]\n",
    "        losses, nums, metrics = zip(*results)\n",
    "        total_size = np.sum(nums)\n",
    "        avg_loss = np.sum(np.multiply(losses,nums)) / total_size\n",
    "        avg_metric = None\n",
    "        if metric is not None:\n",
    "            avg_metric = np.sum(np.multiply(metrics, nums)) / total_size\n",
    "\n",
    "        return avg_loss, total_size, avg_metric"
   ]
  },
  {
   "cell_type": "code",
   "execution_count": 15,
   "id": "a6279907-418f-4ae7-abd4-6984051447a5",
   "metadata": {},
   "outputs": [],
   "source": [
    "def fit(epochs, model, loss_fn, opt, train_dl, valid_dl, metric=None):\n",
    "    accuracies = []\n",
    "    for epoch in range(epochs):\n",
    "        for xb, yb in train_dl:\n",
    "            loss, _, _ = loss_batch(model, loss_fn, xb, yb, opt)\n",
    "\n",
    "        result = evaluate(model, loss_fn, valid_dl, metric)\n",
    "        val_loss, total, val_metric = result\n",
    "\n",
    "        if metric is None:\n",
    "            print('Epoch [{}/{}], Loss: {:.4f}'.format(epoch+1, epochs, val_loss))\n",
    "        else:\n",
    "            print('Epoch [{}/{}], Loss: {:.4f}, {}: {:.4f}'.format(epoch+1, epochs, val_loss, metric.__name__, val_metric))\n",
    "            accuracies.append(val_metric)\n",
    "\n",
    "    return accuracies"
   ]
  },
  {
   "cell_type": "code",
   "execution_count": 16,
   "id": "0df3cc8a-67f7-4c60-ab7b-fad1af97487b",
   "metadata": {},
   "outputs": [
    {
     "name": "stdout",
     "output_type": "stream",
     "text": [
      "Epoch [1/20], Loss: 0.6046, accuracy: 0.8120\n",
      "Epoch [2/20], Loss: 0.3533, accuracy: 0.8877\n",
      "Epoch [3/20], Loss: 0.2449, accuracy: 0.9278\n",
      "Epoch [4/20], Loss: 0.2037, accuracy: 0.9387\n",
      "Epoch [5/20], Loss: 0.1764, accuracy: 0.9458\n",
      "Epoch [6/20], Loss: 0.1547, accuracy: 0.9522\n",
      "Epoch [7/20], Loss: 0.1325, accuracy: 0.9613\n",
      "Epoch [8/20], Loss: 0.1156, accuracy: 0.9668\n",
      "Epoch [9/20], Loss: 0.1094, accuracy: 0.9689\n",
      "Epoch [10/20], Loss: 0.1009, accuracy: 0.9723\n",
      "Epoch [11/20], Loss: 0.0918, accuracy: 0.9736\n",
      "Epoch [12/20], Loss: 0.0890, accuracy: 0.9742\n",
      "Epoch [13/20], Loss: 0.0802, accuracy: 0.9771\n",
      "Epoch [14/20], Loss: 0.0756, accuracy: 0.9780\n",
      "Epoch [15/20], Loss: 0.0741, accuracy: 0.9785\n",
      "Epoch [16/20], Loss: 0.0756, accuracy: 0.9786\n",
      "Epoch [17/20], Loss: 0.0686, accuracy: 0.9802\n",
      "Epoch [18/20], Loss: 0.0682, accuracy: 0.9807\n",
      "Epoch [19/20], Loss: 0.0676, accuracy: 0.9804\n",
      "Epoch [20/20], Loss: 0.0661, accuracy: 0.9808\n"
     ]
    }
   ],
   "source": [
    "model = CNN()\n",
    "to_device(model, device)\n",
    "\n",
    "optimizer = torch.optim.SGD(model.parameters(), lr = learning_rate)\n",
    "accuracies = fit(iters, model, F.cross_entropy, optimizer, train_loader, val_loader, accuracy)"
   ]
  },
  {
   "cell_type": "code",
   "execution_count": 17,
   "id": "a3f7cba6-06d3-408c-a271-8f3bcddaf23c",
   "metadata": {},
   "outputs": [
    {
     "data": {
      "image/png": "[encoded data removed]",
      "text/plain": [
       "<Figure size 640x480 with 1 Axes>"
      ]
     },
     "metadata": {},
     "output_type": "display_data"
    }
   ],
   "source": [
    "plt.plot(accuracies, '-x')\n",
    "plt.xlabel('epoch')\n",
    "plt.ylabel('accuracy')\n",
    "plt.title('Accuracy vs. No. of epochs');"
   ]
  },
  {
   "cell_type": "code",
   "execution_count": null,
   "id": "10668917-984e-4db4-b9c5-553bcd1dbd3f",
   "metadata": {},
   "outputs": [],
   "source": []
  },
  {
   "cell_type": "code",
   "execution_count": 18,
   "id": "913cdf44-c894-448d-9486-d08a16433d1f",
   "metadata": {},
   "outputs": [
    {
     "name": "stdout",
     "output_type": "stream",
     "text": [
      "Loss: 0.058834, Accuracy: 0.9802\n"
     ]
    }
   ],
   "source": [
    "test_loader = DataLoader(test_dataset, batch_size=200)\n",
    "test_loader = DeviceDataLoader(test_loader, device)\n",
    "\n",
    "test_loss, total, test_acc = evaluate(model, F.cross_entropy, test_loader, metric=accuracy)\n",
    "print('Loss: {:4f}, Accuracy: {:.4f}'.format(test_loss, test_acc))"
   ]
  },
  {
   "cell_type": "code",
   "execution_count": null,
   "id": "73fdd2eb-6bf2-40ec-863e-854f83dc5edf",
   "metadata": {},
   "outputs": [],
   "source": []
  },
  {
   "cell_type": "code",
   "execution_count": null,
   "id": "cdb61c4f-7fa3-4bd1-b70b-6cae5b797e26",
   "metadata": {},
   "outputs": [],
   "source": []
  },
  {
   "cell_type": "code",
   "execution_count": null,
   "id": "2f6c9cb5-de31-4b0f-a63c-d99d94b99c3d",
   "metadata": {},
   "outputs": [],
   "source": []
  }
 ],
 "metadata": {
  "kernelspec": {
   "display_name": "Python 3 (ipykernel)",
   "language": "python",
   "name": "python3"
  },
  "language_info": {
   "codemirror_mode": {
    "name": "ipython",
    "version": 3
   },
   "file_extension": ".py",
   "mimetype": "text/x-python",
   "name": "python",
   "nbconvert_exporter": "python",
   "pygments_lexer": "ipython3",
   "version": "3.12.5"
  }
 },
 "nbformat": 4,
 "nbformat_minor": 5
}
